{
 "cells": [
  {
   "cell_type": "code",
   "execution_count": 1,
   "id": "07ce6c2d-e50e-4131-b1a4-035c0f403f35",
   "metadata": {},
   "outputs": [
    {
     "name": "stdout",
     "output_type": "stream",
     "text": [
      "Holii :)\n"
     ]
    }
   ],
   "source": [
    "print (\"Holii :)\")"
   ]
  },
  {
   "cell_type": "markdown",
   "id": "7f0839c2-0b94-4472-ab99-3a0ba66f50c7",
   "metadata": {},
   "source": [
    "Holigui lalala "
   ]
  },
  {
   "cell_type": "code",
   "execution_count": null,
   "id": "0296984d-6eec-46c6-83d2-4de8eb92fe33",
   "metadata": {},
   "outputs": [],
   "source": []
  }
 ],
 "metadata": {
  "kernelspec": {
   "display_name": "Python 3 (ipykernel)",
   "language": "python",
   "name": "python3"
  },
  "language_info": {
   "codemirror_mode": {
    "name": "ipython",
    "version": 3
   },
   "file_extension": ".py",
   "mimetype": "text/x-python",
   "name": "python",
   "nbconvert_exporter": "python",
   "pygments_lexer": "ipython3",
   "version": "3.12.2"
  }
 },
 "nbformat": 4,
 "nbformat_minor": 5
}
