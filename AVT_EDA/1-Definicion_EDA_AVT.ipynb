{
 "cells": [
  {
   "cell_type": "markdown",
   "metadata": {},
   "source": [
    "# INFORMACIÓN DEL PROYECTO"
   ]
  },
  {
   "cell_type": "markdown",
   "metadata": {},
   "source": [
    "### TÍTULO"
   ]
  },
  {
   "cell_type": "markdown",
   "metadata": {},
   "source": [
    "## Competiciones de Agility"
   ]
  },
  {
   "cell_type": "markdown",
   "metadata": {},
   "source": [
    "> El título final será mas sexy"
   ]
  },
  {
   "cell_type": "markdown",
   "metadata": {},
   "source": [
    "### TEMA"
   ]
  },
  {
   "cell_type": "markdown",
   "metadata": {},
   "source": [
    "Análisis de las competiciones de Agility realizadas por la RSCE en España en el último año 2023"
   ]
  },
  {
   "cell_type": "markdown",
   "metadata": {},
   "source": [
    "### HIPÓTESIS"
   ]
  },
  {
   "cell_type": "markdown",
   "metadata": {},
   "source": [
    "Define aquí lo que será la hipótesis de tu proyecto.\n",
    "Deberás tener más de una, pero tu proyecto lo harás teniendo una principal hipótesis."
   ]
  },
  {
   "cell_type": "markdown",
   "metadata": {},
   "source": [
    "- Hipotesis 1.1: Los perros de raza border collie ganan más que los perros de otras razas.\n",
    "- Hipotesis 1.2: El suelo de las pistas tiene relación en el número de competidores eliminados."
   ]
  },
  {
   "cell_type": "markdown",
   "metadata": {},
   "source": [
    "- Hipotesis 2: La edad del perro influye en el porcentaje de pisas a cero.\n",
    "- Hipotesis 3: La época del año sí tiene relación con el número de competidores eliminados.\n",
    "- Hipotesis 4: El sexo del animal no infuye en el resultado de la competición.\n",
    "- Hipotesis 5: Sí hay una medida de cruz perfecta para cada categoría.\n",
    "- Hipotesis 6..."
   ]
  },
  {
   "cell_type": "markdown",
   "metadata": {},
   "source": [
    "## OBTENCIÓN DE LOS DATOS"
   ]
  },
  {
   "cell_type": "markdown",
   "metadata": {},
   "source": [
    "### DATASETS Y FUENTES ALTERNATIVAS DE DATOS"
   ]
  },
  {
   "cell_type": "markdown",
   "metadata": {},
   "source": [
    "Incluye aquí una vista del dataset o datasets de los que partirás para poder evaluar tu hipótesis. <br>\n",
    "También incluye el origen de estos datos y su fuente."
   ]
  },
  {
   "cell_type": "code",
   "execution_count": 4,
   "metadata": {},
   "outputs": [
    {
     "name": "stdout",
     "output_type": "stream",
     "text": [
      "<!DOCTYPE html>\n",
      "<html lang=\"pt_PT\" translate=\"no\">\n",
      " <head>\n",
      "  <meta charset=\"utf-8\"/>\n",
      "  <meta content=\"IE=edge\" http-equiv=\"X-UA-Compatible\"/>\n",
      "  <meta content=\"width=device-width, initial-scale=1.0\" name=\"viewport\"/>\n",
      "  <meta content=\"notranslate\" name=\"google\"/>\n",
      "  <meta content=\"BBxrGAFBMTo0KjM7VRwAMD0gAGAFOTUmv_4aylKHDg__1jtoLAmWqrwG\" name=\"csrf-token\"/>\n",
      "  <title data-prefix=\"FlowAgility\">\n",
      "   FlowAgility\n",
      "  </title>\n",
      "  <link href=\"/assets/app-f442e1c633dad6f71e354ca036a340c0.css?vsn=d\" phx-track-static=\"\" rel=\"stylesheet\"/>\n",
      "  <script defer=\"\" phx-track-static=\"\" src=\"/assets/app-a6852886f8795334a51d5e199ffe022b.js?vsn=d\" type=\"text/javascript\">\n",
      "  </script>\n",
      "  <script defer=\"\" src=\"https://cdn.websitepolicies.io/lib/cookieconsent/cookieconsent.min.js\">\n",
      "  </script>\n",
      "  <script>\n",
      "   window.addEventListener('load',function(){window.wpcc.init({'border':'thin','corners':'small','colors':{'popup':{'background':'#f6f6f6','text':'#000000','border':'#555555'},'button':{'background':'#555555','text':'#ffffff'}},'content':{'href':'https://www.flowagility.com/cookies-policy','message':'We use cookies to ensure you get the best experience on our website.','button':'I agree'}})});\n",
      "  </script>\n",
      " </head>\n",
      " <body class=\"flex flex-col h-screen justify-between bg-white\">\n",
      "  <div class=\"black-screen\" id=\"spinner\">\n",
      "   <div class=\"thinking-thing\">\n",
      "    <div class=\"loader\">\n",
      "    </div>\n",
      "   </div>\n",
      "  </div>\n",
      "  <nav class=\"bg-green-700 fixed w-full z-40 shadow-menu\">\n",
      "   <div class=\"max-w-7xl mx-auto px-4 sm:px-6 lg:px-8\">\n",
      "    <div class=\"flex items-center justify-between h-14\">\n",
      "     <div class=\"flex items-center\">\n",
      "      <div class=\"shrink-0\">\n",
      "       <div class=\"font-bold text-lg font-caption\">\n",
      "        <a class=\"text-white\" href=\"/\" id=\"menu_home\">\n",
      "         FlowAgility\n",
      "        </a>\n",
      "       </div>\n",
      "      </div>\n",
      "     </div>\n",
      "    </div>\n",
      "   </div>\n",
      "  </nav>\n",
      "  <main class=\"pt-16 mb-auto\" role=\"main\">\n",
      "   <div class=\"max-w-sm mx-auto px-4 sm:px-0\">\n",
      "    <div class=\"grid grid-cols-1\">\n",
      "     <h1 class=\"truncate\">\n",
      "      Log In\n",
      "     </h1>\n",
      "    </div>\n",
      "    <div class=\"mb-6\">\n",
      "    </div>\n",
      "    <form action=\"/user/login\" method=\"post\">\n",
      "     <input hidden=\"\" name=\"_csrf_token\" type=\"hidden\" value=\"BBxrGAFBMTo0KjM7VRwAMD0gAGAFOTUmv_4aylKHDg__1jtoLAmWqrwG\"/>\n",
      "     <div class=\"grid grid-cols-1 gap-0\">\n",
      "      <div class=\"block\">\n",
      "       <span class=\"text-gray-500\">\n",
      "        Email\n",
      "       </span>\n",
      "       <div>\n",
      "        <input class=\"mb-8 mt-1 block w-full rounded border-gray-300 shadow-input focus:border-green-600 focus:ring-sm focus:ring-green-500 focus:ring-opacity-20 disabled:opacity-50 disabled:cursor-not-allowed\" id=\"user_email\" name=\"user[email]\" required=\"\" type=\"email\"/>\n",
      "       </div>\n",
      "       <div class=\"relative\">\n",
      "       </div>\n",
      "      </div>\n",
      "      <div class=\"block\">\n",
      "       <span class=\"text-gray-500\">\n",
      "        Password\n",
      "       </span>\n",
      "       <div>\n",
      "        <input class=\"mb-8 mt-1 block w-full rounded border-gray-300 shadow-input focus:border-green-600 focus:ring-sm focus:ring-green-500 focus:ring-opacity-20 disabled:opacity-50 disabled:cursor-not-allowed\" id=\"user_password\" name=\"user[password]\" required=\"\" type=\"password\"/>\n",
      "       </div>\n",
      "       <div class=\"relative\">\n",
      "       </div>\n",
      "      </div>\n",
      "      <div class=\"grid grid-cols-1 gap-0\">\n",
      "       <button class=\"inline-flex justify-center py-2 px-6 border border-transparent rounded shadow text-lg font-bold text-white bg-green-600 active:bg-green-700 hover:shadow-button disabled:opacity-50 disabled:bg-gray-400 mt-6\" id=\"signin\" type=\"submit\">\n",
      "        Log In\n",
      "       </button>\n",
      "      </div>\n",
      "     </div>\n",
      "    </form>\n",
      "    <div class=\"flex justify-center mt-10\">\n",
      "     <span class=\"text-sm leading-loose mr-3\">\n",
      "      Don't have an account?\n",
      "     </span>\n",
      "     <a class=\"py-1 px-4 border text-gray-700 bg-gray-100 border-gray-400 rounded shadow text-sm hover:shadow-button active:bg-green-600 active:text-white\" href=\"/user/register\" id=\"register\">\n",
      "      Sign Up\n",
      "     </a>\n",
      "    </div>\n",
      "    <div class=\"flex justify-center mt-6\">\n",
      "     <span class=\"text-sm mr-2\">\n",
      "      Forgot your password?\n",
      "     </span>\n",
      "     <a class=\"green text-sm text-green-600\" href=\"/user/reset_password\" id=\"forgot_password\">\n",
      "      Ask here to reset it\n",
      "     </a>\n",
      "    </div>\n",
      "   </div>\n",
      "  </main>\n",
      "  <div data-phx-session=\"SFMyNTY.g2gDaAJhBXQAAAAIZAACaWRtAAAAFHBoeC1GOE5rNlY4aGNyLXc1dVlCZAAMbGl2ZV9zZXNzaW9uZAADbmlsZAAKcGFyZW50X3BpZGQAA25pbGQACHJvb3RfcGlkZAADbmlsZAAJcm9vdF92aWV3ZAAhRWxpeGlyLkZBQ29tV2ViLlNoYXJlZC5Gb290ZXJMaXZlZAAGcm91dGVyZAADbmlsZAAHc2Vzc2lvbnQAAAADbQAAAApjb2xvcl9uYW1lbQAAAAVncmVlbm0AAAAKY3NyZl90b2tlbm0AAAA4QkJ4ckdBRkJNVG8wS2pNN1ZSd0FNRDBnQUdBRk9UVW12XzRheWxLSERnX18xanRvTEFtV3Fyd0dtAAAADWxhbmdfc2VsZWN0ZWRtAAAAAmVuZAAEdmlld2QAIUVsaXhpci5GQUNvbVdlYi5TaGFyZWQuRm9vdGVyTGl2ZW4GANETa66OAWIAAVGA.fcYLOaZvaN29-wKP6TDK7olHWvlvCqGKFmvCChO1128\" data-phx-static=\"SFMyNTY.g2gDaAJhBXQAAAADZAAKYXNzaWduX25ld2pkAAVmbGFzaHQAAAABbQAAAAVlcnJvcm0AAAAkWW91IG11c3QgbG9nIGluIHRvIGFjY2VzcyB0aGlzIHBhZ2UuZAACaWRtAAAAFHBoeC1GOE5rNlY4aGNyLXc1dVlCbgYA0RNrro4BYgABUYA.lRQs12KQHRpnzjjzV_Iavkn78bEqJeo-9klUpK-AeBc\" id=\"phx-F8Nk6V8hcr-w5uYB\">\n",
      "   <footer class=\"w-full mt-12 h-12 bg-gray-600 flex flex-row justify-center text-base font-bold content-center text-gray-300\">\n",
      "    <div class=\"h-full items-center flex cursor-pointer\">\n",
      "     <a class=\"\" href=\"/policies\">\n",
      "      Policies\n",
      "     </a>\n",
      "    </div>\n",
      "    <div class=\"h-full items-center flex px-1\">\n",
      "     |\n",
      "    </div>\n",
      "    <div class=\"h-full items-center flex cursor-pointer\">\n",
      "     <a class=\"\" href=\"/contacts\">\n",
      "      Contacts\n",
      "     </a>\n",
      "    </div>\n",
      "    <div class=\"h-full items-center flex px-1\">\n",
      "     |\n",
      "    </div>\n",
      "    <div class=\"h-full items-center flex cursor-pointer relative\">\n",
      "     <div class=\"flex flex-row justify-start\" phx-click=\"show_lang_menu\">\n",
      "      <div class=\"\">\n",
      "       EN\n",
      "      </div>\n",
      "      <div class=\"w-5 h-5 fill-current text-gray-300 mt-1\">\n",
      "       <svg viewbox=\"0 0 24 24\">\n",
      "        <path d=\"M7.41,8.58L12,13.17L16.59,8.58L18,10L12,16L6,10L7.41,8.58Z\" fill=\"currentColor\">\n",
      "        </path>\n",
      "       </svg>\n",
      "      </div>\n",
      "     </div>\n",
      "    </div>\n",
      "   </footer>\n",
      "  </div>\n",
      "  <div id=\"toast-container\" onclick=\"document.getElementById('toast-container').style.display = 'none';\" phx-hook=\"ToastContainer\">\n",
      "   <div class=\"toast error\" style=\"top: 0px; opacity: 1;\">\n",
      "    <span>\n",
      "     You must log in to access this page.\n",
      "    </span>\n",
      "   </div>\n",
      "  </div>\n",
      "  <script>\n",
      "   setTimeout(\n",
      "      function() {\n",
      "        document.getElementById(\"toast-container\").style.display = \"none\";\n",
      "      }, 4000\n",
      "    );\n",
      "  </script>\n",
      " </body>\n",
      "</html>\n",
      "\n"
     ]
    }
   ],
   "source": [
    "import pandas as pd\n",
    "import requests\n",
    "\n",
    "from bs4 import BeautifulSoup\n",
    "\n",
    "url = \"https://flowagility.com/zone/events/9e41b304-dd2a-4256-9e18-bbf98f706f75/participants_list\"\n",
    "ce_ag_standard = requests.get(url)\n",
    "\n",
    "soup_ce_ag_std = BeautifulSoup(ce_agility_standard.text, \"lxml\")\n",
    "print(soup_ce_ag_std.prettify())"
   ]
  },
  {
   "cell_type": "markdown",
   "metadata": {},
   "source": [
    "Muestra mediante un head() los principales datasets con los que vas a trabajar"
   ]
  },
  {
   "cell_type": "code",
   "execution_count": null,
   "metadata": {},
   "outputs": [],
   "source": [
    "# Primer dataset\n",
    "# df_1.head()"
   ]
  },
  {
   "cell_type": "code",
   "execution_count": null,
   "metadata": {},
   "outputs": [],
   "source": [
    "# Siguiente dataset...\n",
    "# df_2.head()"
   ]
  }
 ],
 "metadata": {
  "kernelspec": {
   "display_name": "Python 3.7.4 64-bit",
   "language": "python",
   "name": "python3"
  },
  "language_info": {
   "codemirror_mode": {
    "name": "ipython",
    "version": 3
   },
   "file_extension": ".py",
   "mimetype": "text/x-python",
   "name": "python",
   "nbconvert_exporter": "python",
   "pygments_lexer": "ipython3",
   "version": "3.12.2"
  },
  "orig_nbformat": 4,
  "vscode": {
   "interpreter": {
    "hash": "90139cb9a825bf3d63f6f6704e828dbd1ff7edbd4d0c6e906a71235d6efc74af"
   }
  }
 },
 "nbformat": 4,
 "nbformat_minor": 2
}
