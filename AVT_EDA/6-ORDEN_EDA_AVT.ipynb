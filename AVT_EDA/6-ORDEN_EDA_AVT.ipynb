{
 "cells": [
  {
   "cell_type": "code",
   "execution_count": 1,
   "metadata": {},
   "outputs": [],
   "source": [
    "import numpy as np\n",
    "import pandas as pd"
   ]
  },
  {
   "cell_type": "code",
   "execution_count": 2,
   "metadata": {},
   "outputs": [
    {
     "name": "stderr",
     "output_type": "stream",
     "text": [
      "C:\\Users\\annav\\AppData\\Local\\Temp\\ipykernel_15852\\2075437525.py:1: DtypeWarning: Columns (4) have mixed types. Specify dtype option on import or set low_memory=False.\n",
      "  df_agility = pd.read_csv(\"./data/DATA_AGILITY.csv\")\n"
     ]
    }
   ],
   "source": [
    "df_agility = pd.read_csv(\"./data/DATA_AGILITY.csv\")\n",
    "primer_df = pd.read_json(\"./data/df_agility.json\")"
   ]
  },
  {
   "cell_type": "code",
   "execution_count": 3,
   "metadata": {},
   "outputs": [
    {
     "data": {
      "text/html": [
       "<div>\n",
       "<style scoped>\n",
       "    .dataframe tbody tr th:only-of-type {\n",
       "        vertical-align: middle;\n",
       "    }\n",
       "\n",
       "    .dataframe tbody tr th {\n",
       "        vertical-align: top;\n",
       "    }\n",
       "\n",
       "    .dataframe thead th {\n",
       "        text-align: right;\n",
       "    }\n",
       "</style>\n",
       "<table border=\"1\" class=\"dataframe\">\n",
       "  <thead>\n",
       "    <tr style=\"text-align: right;\">\n",
       "      <th></th>\n",
       "      <th>Unnamed: 0</th>\n",
       "      <th>Index_data</th>\n",
       "      <th>Fecha</th>\n",
       "      <th>Manga</th>\n",
       "      <th>License</th>\n",
       "      <th>Breed</th>\n",
       "      <th>Gender</th>\n",
       "      <th>Hight_cm</th>\n",
       "      <th>Classification</th>\n",
       "      <th>Qualification</th>\n",
       "      <th>Speed</th>\n",
       "      <th>Time</th>\n",
       "      <th>Faults</th>\n",
       "      <th>Refusals</th>\n",
       "      <th>Competition</th>\n",
       "      <th>Location</th>\n",
       "      <th>Roof</th>\n",
       "      <th>Floor</th>\n",
       "    </tr>\n",
       "  </thead>\n",
       "  <tbody>\n",
       "    <tr>\n",
       "      <th>0</th>\n",
       "      <td>0</td>\n",
       "      <td>0</td>\n",
       "      <td>Sabado 6 abril</td>\n",
       "      <td>Jumping</td>\n",
       "      <td>2023280386PS88000015</td>\n",
       "      <td>Continental Toy Spaniel</td>\n",
       "      <td>Male</td>\n",
       "      <td>24.5</td>\n",
       "      <td>-</td>\n",
       "      <td>DISQ</td>\n",
       "      <td>-</td>\n",
       "      <td>-</td>\n",
       "      <td>-</td>\n",
       "      <td>-</td>\n",
       "      <td>Pataplán 6 y 7 Abril - Liga CASTILLA LA MANCHA</td>\n",
       "      <td>Cuenca / Spain</td>\n",
       "      <td>Outdoor</td>\n",
       "      <td>Sand</td>\n",
       "    </tr>\n",
       "    <tr>\n",
       "      <th>1</th>\n",
       "      <td>1</td>\n",
       "      <td>0</td>\n",
       "      <td>Sabado 6 abril</td>\n",
       "      <td>Agility</td>\n",
       "      <td>2023280386PS88000015</td>\n",
       "      <td>Continental Toy Spaniel</td>\n",
       "      <td>Male</td>\n",
       "      <td>24.5</td>\n",
       "      <td>-</td>\n",
       "      <td>NQ</td>\n",
       "      <td>2.48 m/s</td>\n",
       "      <td>79.88 s</td>\n",
       "      <td>2</td>\n",
       "      <td>2</td>\n",
       "      <td>Pataplán 6 y 7 Abril - Liga CASTILLA LA MANCHA</td>\n",
       "      <td>Cuenca / Spain</td>\n",
       "      <td>Outdoor</td>\n",
       "      <td>Sand</td>\n",
       "    </tr>\n",
       "    <tr>\n",
       "      <th>2</th>\n",
       "      <td>2</td>\n",
       "      <td>0</td>\n",
       "      <td>Sabado 6 abril</td>\n",
       "      <td>Jumping</td>\n",
       "      <td>2022160138RS70000004</td>\n",
       "      <td>Shetland Sheepdog</td>\n",
       "      <td>Female</td>\n",
       "      <td>31.0</td>\n",
       "      <td>1º</td>\n",
       "      <td>V_GOOD</td>\n",
       "      <td>3.59 m/s</td>\n",
       "      <td>42.03 s</td>\n",
       "      <td>1</td>\n",
       "      <td>1</td>\n",
       "      <td>Pataplán 6 y 7 Abril - Liga CASTILLA LA MANCHA</td>\n",
       "      <td>Cuenca / Spain</td>\n",
       "      <td>Outdoor</td>\n",
       "      <td>Sand</td>\n",
       "    </tr>\n",
       "    <tr>\n",
       "      <th>3</th>\n",
       "      <td>3</td>\n",
       "      <td>0</td>\n",
       "      <td>Sabado 6 abril</td>\n",
       "      <td>Agility</td>\n",
       "      <td>2022160138RS70000004</td>\n",
       "      <td>Shetland Sheepdog</td>\n",
       "      <td>Female</td>\n",
       "      <td>31.0</td>\n",
       "      <td>-</td>\n",
       "      <td>DISQ</td>\n",
       "      <td>-</td>\n",
       "      <td>-</td>\n",
       "      <td>-</td>\n",
       "      <td>-</td>\n",
       "      <td>Pataplán 6 y 7 Abril - Liga CASTILLA LA MANCHA</td>\n",
       "      <td>Cuenca / Spain</td>\n",
       "      <td>Outdoor</td>\n",
       "      <td>Sand</td>\n",
       "    </tr>\n",
       "    <tr>\n",
       "      <th>4</th>\n",
       "      <td>4</td>\n",
       "      <td>0</td>\n",
       "      <td>Sabado 6 abril</td>\n",
       "      <td>Jumping</td>\n",
       "      <td>2018160135RS70000001</td>\n",
       "      <td>Border Collie</td>\n",
       "      <td>Female</td>\n",
       "      <td>50.0</td>\n",
       "      <td>-</td>\n",
       "      <td>DISQ</td>\n",
       "      <td>-</td>\n",
       "      <td>-</td>\n",
       "      <td>-</td>\n",
       "      <td>-</td>\n",
       "      <td>Pataplán 6 y 7 Abril - Liga CASTILLA LA MANCHA</td>\n",
       "      <td>Cuenca / Spain</td>\n",
       "      <td>Outdoor</td>\n",
       "      <td>Sand</td>\n",
       "    </tr>\n",
       "  </tbody>\n",
       "</table>\n",
       "</div>"
      ],
      "text/plain": [
       "   Unnamed: 0  Index_data           Fecha    Manga               License  \\\n",
       "0           0           0  Sabado 6 abril  Jumping  2023280386PS88000015   \n",
       "1           1           0  Sabado 6 abril  Agility  2023280386PS88000015   \n",
       "2           2           0  Sabado 6 abril  Jumping  2022160138RS70000004   \n",
       "3           3           0  Sabado 6 abril  Agility  2022160138RS70000004   \n",
       "4           4           0  Sabado 6 abril  Jumping  2018160135RS70000001   \n",
       "\n",
       "                     Breed  Gender  Hight_cm Classification Qualification  \\\n",
       "0  Continental Toy Spaniel    Male      24.5              -          DISQ   \n",
       "1  Continental Toy Spaniel    Male      24.5              -            NQ   \n",
       "2        Shetland Sheepdog  Female      31.0             1º        V_GOOD   \n",
       "3        Shetland Sheepdog  Female      31.0              -          DISQ   \n",
       "4            Border Collie  Female      50.0              -          DISQ   \n",
       "\n",
       "      Speed     Time Faults Refusals  \\\n",
       "0         -        -      -        -   \n",
       "1  2.48 m/s  79.88 s      2        2   \n",
       "2  3.59 m/s  42.03 s      1        1   \n",
       "3         -        -      -        -   \n",
       "4         -        -      -        -   \n",
       "\n",
       "                                      Competition        Location     Roof  \\\n",
       "0  Pataplán 6 y 7 Abril - Liga CASTILLA LA MANCHA  Cuenca / Spain  Outdoor   \n",
       "1  Pataplán 6 y 7 Abril - Liga CASTILLA LA MANCHA  Cuenca / Spain  Outdoor   \n",
       "2  Pataplán 6 y 7 Abril - Liga CASTILLA LA MANCHA  Cuenca / Spain  Outdoor   \n",
       "3  Pataplán 6 y 7 Abril - Liga CASTILLA LA MANCHA  Cuenca / Spain  Outdoor   \n",
       "4  Pataplán 6 y 7 Abril - Liga CASTILLA LA MANCHA  Cuenca / Spain  Outdoor   \n",
       "\n",
       "  Floor  \n",
       "0  Sand  \n",
       "1  Sand  \n",
       "2  Sand  \n",
       "3  Sand  \n",
       "4  Sand  "
      ]
     },
     "execution_count": 3,
     "metadata": {},
     "output_type": "execute_result"
    }
   ],
   "source": [
    "df_agility.head(5)"
   ]
  },
  {
   "cell_type": "code",
   "execution_count": 4,
   "metadata": {},
   "outputs": [],
   "source": [
    "df_agility.drop(columns = [\"Unnamed: 0\"], inplace = True)"
   ]
  },
  {
   "cell_type": "code",
   "execution_count": 5,
   "metadata": {},
   "outputs": [
    {
     "data": {
      "text/plain": [
       "Qualification\n",
       "EXC_0       11972\n",
       "DISQ         8498\n",
       "EXC          6472\n",
       "V_GOOD       4055\n",
       "GOOD          700\n",
       "DISQ (R)      402\n",
       "NP            355\n",
       "NQ            160\n",
       "DISQ (T)      157\n",
       "Name: count, dtype: int64"
      ]
     },
     "execution_count": 5,
     "metadata": {},
     "output_type": "execute_result"
    }
   ],
   "source": [
    "df_agility[\"Qualification\"].value_counts()"
   ]
  },
  {
   "cell_type": "code",
   "execution_count": 6,
   "metadata": {},
   "outputs": [],
   "source": [
    "eliminados = []\n",
    "for elim in df_agility[\"Qualification\"]:\n",
    "    if elim == \"DISQ\" or elim == \"DISQ (R)\" or elim == \"DISQ (T)\":\n",
    "        eliminados.append(\"ELIM\")\n",
    "    else:\n",
    "        eliminados.append(elim)"
   ]
  },
  {
   "cell_type": "code",
   "execution_count": 7,
   "metadata": {},
   "outputs": [
    {
     "data": {
      "text/plain": [
       "Eliminados\n",
       "EXC_0     11972\n",
       "ELIM       9057\n",
       "EXC        6472\n",
       "V_GOOD     4055\n",
       "GOOD        700\n",
       "NP          355\n",
       "NQ          160\n",
       "Name: count, dtype: int64"
      ]
     },
     "execution_count": 7,
     "metadata": {},
     "output_type": "execute_result"
    }
   ],
   "source": [
    "df_agility[\"Eliminados\"] = eliminados\n",
    "\n",
    "df_agility[\"Eliminados\"].value_counts()"
   ]
  },
  {
   "cell_type": "code",
   "execution_count": 8,
   "metadata": {},
   "outputs": [
    {
     "name": "stdout",
     "output_type": "stream",
     "text": [
      "<class 'pandas.core.frame.DataFrame'>\n",
      "Index: 32611 entries, 0 to 32770\n",
      "Data columns (total 18 columns):\n",
      " #   Column          Non-Null Count  Dtype  \n",
      "---  ------          --------------  -----  \n",
      " 0   Index_data      32611 non-null  int64  \n",
      " 1   Fecha           32611 non-null  object \n",
      " 2   Manga           32611 non-null  object \n",
      " 3   License         32611 non-null  object \n",
      " 4   Breed           32611 non-null  object \n",
      " 5   Gender          32611 non-null  object \n",
      " 6   Hight_cm        32611 non-null  float64\n",
      " 7   Classification  32611 non-null  object \n",
      " 8   Qualification   32611 non-null  object \n",
      " 9   Speed           32611 non-null  object \n",
      " 10  Time            32611 non-null  object \n",
      " 11  Faults          32611 non-null  object \n",
      " 12  Refusals        32611 non-null  object \n",
      " 13  Competition     32611 non-null  object \n",
      " 14  Location        32611 non-null  object \n",
      " 15  Roof            32611 non-null  object \n",
      " 16  Floor           32611 non-null  object \n",
      " 17  Eliminados      32611 non-null  object \n",
      "dtypes: float64(1), int64(1), object(16)\n",
      "memory usage: 4.7+ MB\n"
     ]
    }
   ],
   "source": [
    "# Eliminamos los participantes NP (No Presentados) y NQ (No tienen Qualificación ni resultado de Classificación)\n",
    "index_NP = df_agility.loc[df_agility[\"Eliminados\"] == \"NQ\"].index.to_list()\n",
    "\n",
    "df_agility = df_agility.drop(index_NP)\n",
    "df_agility.info()"
   ]
  },
  {
   "cell_type": "code",
   "execution_count": 9,
   "metadata": {},
   "outputs": [],
   "source": [
    "indice = list(range(32611))\n",
    "df_agility[\"indice\"] = indice\n",
    "df_agility = df_agility.set_index(\"indice\")"
   ]
  },
  {
   "cell_type": "code",
   "execution_count": 10,
   "metadata": {},
   "outputs": [
    {
     "name": "stdout",
     "output_type": "stream",
     "text": [
      "<class 'pandas.core.frame.DataFrame'>\n",
      "Index: 32611 entries, 0 to 32610\n",
      "Data columns (total 18 columns):\n",
      " #   Column          Non-Null Count  Dtype  \n",
      "---  ------          --------------  -----  \n",
      " 0   Index_data      32611 non-null  int64  \n",
      " 1   Fecha           32611 non-null  object \n",
      " 2   Manga           32611 non-null  object \n",
      " 3   License         32611 non-null  object \n",
      " 4   Breed           32611 non-null  object \n",
      " 5   Gender          32611 non-null  object \n",
      " 6   Hight_cm        32611 non-null  float64\n",
      " 7   Classification  32611 non-null  object \n",
      " 8   Qualification   32611 non-null  object \n",
      " 9   Speed           32611 non-null  object \n",
      " 10  Time            32611 non-null  object \n",
      " 11  Faults          32611 non-null  object \n",
      " 12  Refusals        32611 non-null  object \n",
      " 13  Competition     32611 non-null  object \n",
      " 14  Location        32611 non-null  object \n",
      " 15  Roof            32611 non-null  object \n",
      " 16  Floor           32611 non-null  object \n",
      " 17  Eliminados      32611 non-null  object \n",
      "dtypes: float64(1), int64(1), object(16)\n",
      "memory usage: 4.7+ MB\n"
     ]
    }
   ],
   "source": [
    "df_agility.info()"
   ]
  },
  {
   "cell_type": "markdown",
   "metadata": {},
   "source": [
    "| Columna | Descripción| Comentario|\n",
    "|---|---|---|\n",
    "|Index_data| Número relacionado con el evento de la competición| generado en el primero dataset|\n",
    "|Fecha| Día de la competición | + Si no tiene año es del 2024 + modificar formato|\n",
    "|Manga| Tipo de pista| Jumping o Agility|\n",
    "|License| identificador individual del Binomio| Groupby con Breed, Gender, Hight_cm|\n",
    "|Breed| Razas de los perros|-|\n",
    "|Gender| Hembra o Macho|-|\n",
    "|Hight_cm| Altura de la cruz|-|\n",
    "|Classification| 1r, 2o, 3o| Ganadores de la competición|\n",
    "|Qualification| EXC_0,DISQ,EXC,V_GOOD,GOOD,DISQ (R),NP,NQ,DISQ (T)| EXC_0 = Pista a cero, DISQ (R y T?)= Eliminado, NP= No presentado|\n",
    "|Speed| Velocidad del perro|-|\n",
    "|Time| Tiempo en pista|-|\n",
    "|Faults| nº de Faltas realizadas en pista|-|\n",
    "|Refusals| nº de Faltas leves realizadas en pista|-|\n",
    "|Competition| Nombre de la competición| relacionado con Index_data|\n",
    "|Location| Lugar de la competicion| relacionado con Competición|\n",
    "|Roof| Tipo de techo de la competición| Outdoor o indoor|\n",
    "|Floor| Tipo de suelo| ...|\n",
    "|Eliminados| Misma columna que Qualification pero limpia|-|\n",
    "\n"
   ]
  },
  {
   "cell_type": "code",
   "execution_count": 11,
   "metadata": {},
   "outputs": [],
   "source": [
    "# Borro la Columna Qualification porque ya tenemos la de Eliminados que nos da la misma información limpia\n",
    "del df_agility[\"Qualification\"]"
   ]
  },
  {
   "cell_type": "code",
   "execution_count": 12,
   "metadata": {},
   "outputs": [],
   "source": [
    "# Rehago la fecha:\n",
    "list_date = []\n",
    "for indice in df_agility[\"Index_data\"]:\n",
    "    list_date.append(primer_df[\"shortDate\"][indice])\n",
    "\n",
    "df_agility[\"Fecha_Competición\"] = list_date"
   ]
  },
  {
   "cell_type": "code",
   "execution_count": null,
   "metadata": {},
   "outputs": [],
   "source": [
    "# Decido no canviar a formato datetime. Demasiados patrones distintos y no es tan relevante para el estudio.\n",
    "df_agility[\"Fecha_Competición\"].unique()"
   ]
  },
  {
   "cell_type": "code",
   "execution_count": 14,
   "metadata": {},
   "outputs": [
    {
     "data": {
      "text/plain": [
       "Manga\n",
       "Jumping      13201\n",
       "Agility      12381\n",
       "Agility 2     2225\n",
       "Agility 1     2212\n",
       "Jumping 2     1205\n",
       "Jumping 1     1204\n",
       "Agility 3      127\n",
       "Jumping 3       48\n",
       "Jumping 4        8\n",
       "Name: count, dtype: int64"
      ]
     },
     "execution_count": 14,
     "metadata": {},
     "output_type": "execute_result"
    }
   ],
   "source": [
    "df_agility[\"Manga\"].value_counts()"
   ]
  },
  {
   "cell_type": "code",
   "execution_count": 15,
   "metadata": {},
   "outputs": [],
   "source": [
    "lista_pista = []\n",
    "for manga in df_agility[\"Manga\"]:\n",
    "    if manga.startswith(\"Jumping\"):\n",
    "        lista_pista.append(\"Jumping\")\n",
    "    if manga.startswith(\"Agility\"):\n",
    "        lista_pista.append(\"Agility\")"
   ]
  },
  {
   "cell_type": "code",
   "execution_count": 16,
   "metadata": {},
   "outputs": [
    {
     "data": {
      "text/plain": [
       "Pista\n",
       "Agility    16945\n",
       "Jumping    15666\n",
       "Name: count, dtype: int64"
      ]
     },
     "execution_count": 16,
     "metadata": {},
     "output_type": "execute_result"
    }
   ],
   "source": [
    "df_agility[\"Pista\"] = lista_pista\n",
    "df_agility[\"Pista\"].value_counts()"
   ]
  },
  {
   "cell_type": "code",
   "execution_count": 17,
   "metadata": {},
   "outputs": [],
   "source": [
    "# Elimino la columna Manga porque ya se ha creado Pista que está limpia\n",
    "del df_agility[\"Manga\"]"
   ]
  },
  {
   "cell_type": "code",
   "execution_count": 18,
   "metadata": {},
   "outputs": [
    {
     "name": "stdout",
     "output_type": "stream",
     "text": [
      "<class 'pandas.core.frame.DataFrame'>\n",
      "Index: 32611 entries, 0 to 32610\n",
      "Data columns (total 18 columns):\n",
      " #   Column             Non-Null Count  Dtype  \n",
      "---  ------             --------------  -----  \n",
      " 0   Index_data         32611 non-null  int64  \n",
      " 1   Fecha              32611 non-null  object \n",
      " 2   License            32611 non-null  object \n",
      " 3   Breed              32611 non-null  object \n",
      " 4   Gender             32611 non-null  object \n",
      " 5   Hight_cm           32611 non-null  float64\n",
      " 6   Classification     32611 non-null  object \n",
      " 7   Speed              32611 non-null  object \n",
      " 8   Time               32611 non-null  object \n",
      " 9   Faults             32611 non-null  object \n",
      " 10  Refusals           32611 non-null  object \n",
      " 11  Competition        32611 non-null  object \n",
      " 12  Location           32611 non-null  object \n",
      " 13  Roof               32611 non-null  object \n",
      " 14  Floor              32611 non-null  object \n",
      " 15  Eliminados         32611 non-null  object \n",
      " 16  Fecha_Competición  32611 non-null  object \n",
      " 17  Pista              32611 non-null  object \n",
      "dtypes: float64(1), int64(1), object(16)\n",
      "memory usage: 4.7+ MB\n"
     ]
    }
   ],
   "source": [
    "df_agility.info()"
   ]
  },
  {
   "cell_type": "code",
   "execution_count": 19,
   "metadata": {},
   "outputs": [],
   "source": [
    "df_agility.to_csv(\"6_DATA_AGILITY.csv\")"
   ]
  },
  {
   "cell_type": "markdown",
   "metadata": {},
   "source": []
  }
 ],
 "metadata": {
  "kernelspec": {
   "display_name": "Python 3",
   "language": "python",
   "name": "python3"
  },
  "language_info": {
   "codemirror_mode": {
    "name": "ipython",
    "version": 3
   },
   "file_extension": ".py",
   "mimetype": "text/x-python",
   "name": "python",
   "nbconvert_exporter": "python",
   "pygments_lexer": "ipython3",
   "version": "3.12.2"
  }
 },
 "nbformat": 4,
 "nbformat_minor": 2
}
