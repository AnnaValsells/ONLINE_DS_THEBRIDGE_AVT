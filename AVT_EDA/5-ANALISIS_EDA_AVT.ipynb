{
 "cells": [
  {
   "cell_type": "code",
   "execution_count": 1,
   "metadata": {},
   "outputs": [],
   "source": [
    "import matplotlib.pyplot as plt\n",
    "import numpy as np\n",
    "import pandas as pd\n",
    "import seaborn as sns\n",
    "sns.set(color_codes=True)"
   ]
  },
  {
   "cell_type": "code",
   "execution_count": 3,
   "metadata": {},
   "outputs": [
    {
     "name": "stderr",
     "output_type": "stream",
     "text": [
      "C:\\Users\\annav\\AppData\\Local\\Temp\\ipykernel_21656\\20650309.py:1: DtypeWarning: Columns (5) have mixed types. Specify dtype option on import or set low_memory=False.\n",
      "  df_agility = pd.read_csv(\"./data/agility_runs_df.csv\");\n"
     ]
    }
   ],
   "source": [
    "df_agility = pd.read_csv(\"./data/agility_runs_df.csv\")"
   ]
  },
  {
   "cell_type": "code",
   "execution_count": 4,
   "metadata": {},
   "outputs": [
    {
     "name": "stdout",
     "output_type": "stream",
     "text": [
      "<class 'pandas.core.frame.DataFrame'>\n",
      "RangeIndex: 32794 entries, 0 to 32793\n",
      "Data columns (total 18 columns):\n",
      " #   Column          Non-Null Count  Dtype  \n",
      "---  ------          --------------  -----  \n",
      " 0   Unnamed: 0      32794 non-null  int64  \n",
      " 1   Indice          32794 non-null  int64  \n",
      " 2   Index_data      32794 non-null  int64  \n",
      " 3   Fecha           32794 non-null  object \n",
      " 4   Manga           32794 non-null  object \n",
      " 5   License         32777 non-null  object \n",
      " 6   Breed           32794 non-null  object \n",
      " 7   Gender          32794 non-null  object \n",
      " 8   Hight_cm        32794 non-null  float64\n",
      " 9   Classification  32794 non-null  object \n",
      " 10  Speed           32794 non-null  object \n",
      " 11  Time            32794 non-null  object \n",
      " 12  Faults          32794 non-null  object \n",
      " 13  Refusals        32794 non-null  object \n",
      " 14  Comptetition    32794 non-null  object \n",
      " 15  Location        32794 non-null  object \n",
      " 16  Roof            32794 non-null  object \n",
      " 17  Floor           32794 non-null  object \n",
      "dtypes: float64(1), int64(3), object(14)\n",
      "memory usage: 4.5+ MB\n"
     ]
    }
   ],
   "source": [
    "df_agility.info()"
   ]
  },
  {
   "cell_type": "code",
   "execution_count": 8,
   "metadata": {},
   "outputs": [
    {
     "data": {
      "text/plain": [
       "count     32777\n",
       "unique     2753\n",
       "top       15936\n",
       "freq        129\n",
       "Name: License, dtype: object"
      ]
     },
     "execution_count": 8,
     "metadata": {},
     "output_type": "execute_result"
    }
   ],
   "source": [
    "df_agility[\"License\"].describe()"
   ]
  }
 ],
 "metadata": {
  "kernelspec": {
   "display_name": "Python 3",
   "language": "python",
   "name": "python3"
  },
  "language_info": {
   "codemirror_mode": {
    "name": "ipython",
    "version": 3
   },
   "file_extension": ".py",
   "mimetype": "text/x-python",
   "name": "python",
   "nbconvert_exporter": "python",
   "pygments_lexer": "ipython3",
   "version": "3.12.2"
  }
 },
 "nbformat": 4,
 "nbformat_minor": 2
}
