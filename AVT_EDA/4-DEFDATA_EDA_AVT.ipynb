{
 "cells": [
  {
   "cell_type": "code",
   "execution_count": 1,
   "metadata": {},
   "outputs": [],
   "source": [
    "import pandas as pd\n",
    "import numpy as np\n",
    "\n",
    "df_agility = pd.read_json(\"./data/df_agility.json\")\n",
    "data_runs = pd.read_json(\"./data/data_runs.json\")"
   ]
  },
  {
   "cell_type": "code",
   "execution_count": null,
   "metadata": {},
   "outputs": [],
   "source": [
    "df_agility.head(1)"
   ]
  },
  {
   "cell_type": "code",
   "execution_count": null,
   "metadata": {},
   "outputs": [],
   "source": [
    "data_runs.head(1)"
   ]
  },
  {
   "cell_type": "code",
   "execution_count": 2,
   "metadata": {},
   "outputs": [],
   "source": [
    "dic_join = {\n",
    "    \"Competition\": [],\n",
    "    \"Location\": [],\n",
    "    \"Roof\": [],\n",
    "    \"Floor\": []\n",
    "}\n",
    "\n",
    "\n",
    "for i in data_runs[\"Index_data\"]:\n",
    "    dic_join[\"Competition\"].append(df_agility[\"title\"][i])\n",
    "    dic_join[\"Location\"].append(df_agility[\"location\"][i])\n",
    "    dic_join[\"Roof\"].append(df_agility[\"Roof\"][i])\n",
    "    dic_join[\"Floor\"].append(df_agility[\"Floor\"][i])"
   ]
  },
  {
   "cell_type": "code",
   "execution_count": 3,
   "metadata": {},
   "outputs": [],
   "source": [
    "data_runs[\"Competition\"] = dic_join[\"Competition\"]\n",
    "data_runs[\"Location\"] = dic_join[\"Location\"]\n",
    "data_runs[\"Roof\"] = dic_join[\"Roof\"]\n",
    "data_runs[\"Floor\"] = dic_join[\"Floor\"]"
   ]
  },
  {
   "cell_type": "code",
   "execution_count": null,
   "metadata": {},
   "outputs": [],
   "source": [
    "data_runs.info()"
   ]
  },
  {
   "cell_type": "code",
   "execution_count": 7,
   "metadata": {},
   "outputs": [
    {
     "data": {
      "text/plain": [
       "License\n",
       "PRE                     1484\n",
       "-                       1282\n",
       "15936                    129\n",
       "2021460334PS84000245     110\n",
       "2022363192RS70000016     106\n",
       "                        ... \n",
       "2021070108PS80000001       1\n",
       "3195                       1\n",
       "112026                     1\n",
       "3353                       1\n",
       "2871                       1\n",
       "Name: count, Length: 2749, dtype: int64"
      ]
     },
     "execution_count": 7,
     "metadata": {},
     "output_type": "execute_result"
    }
   ],
   "source": [
    "data_runs[\"License\"].value_counts()"
   ]
  },
  {
   "cell_type": "code",
   "execution_count": 4,
   "metadata": {},
   "outputs": [],
   "source": [
    "# Eliminamos los pre-agility y los perros que no tienen Licencia.\n",
    "for licencia in data_runs[\"License\"]:\n",
    "    if licencia == \"PRE\":\n",
    "        indices_a_eliminar_1 = (data_runs[\"License\"].index[data_runs[\"License\"] == licencia].to_list())\n",
    "    if licencia == \"-\":\n",
    "        indices_a_eliminar_2 = (data_runs[\"License\"].index[data_runs[\"License\"] == licencia].to_list())"
   ]
  },
  {
   "cell_type": "code",
   "execution_count": 5,
   "metadata": {},
   "outputs": [
    {
     "data": {
      "text/plain": [
       "1484"
      ]
     },
     "execution_count": 5,
     "metadata": {},
     "output_type": "execute_result"
    }
   ],
   "source": [
    "len(indices_a_eliminar_1)"
   ]
  },
  {
   "cell_type": "code",
   "execution_count": 6,
   "metadata": {},
   "outputs": [
    {
     "data": {
      "text/plain": [
       "1282"
      ]
     },
     "execution_count": 6,
     "metadata": {},
     "output_type": "execute_result"
    }
   ],
   "source": [
    "len(indices_a_eliminar_2)"
   ]
  },
  {
   "cell_type": "code",
   "execution_count": 9,
   "metadata": {},
   "outputs": [
    {
     "name": "stdout",
     "output_type": "stream",
     "text": [
      "<class 'pandas.core.frame.DataFrame'>\n",
      "Index: 32794 entries, 0 to 35559\n",
      "Data columns (total 18 columns):\n",
      " #   Column          Non-Null Count  Dtype  \n",
      "---  ------          --------------  -----  \n",
      " 0   Indice          32794 non-null  int64  \n",
      " 1   Index_data      32794 non-null  int64  \n",
      " 2   Fecha           32794 non-null  object \n",
      " 3   Manga           32794 non-null  object \n",
      " 4   License         32794 non-null  object \n",
      " 5   Breed           32794 non-null  object \n",
      " 6   Gender          32794 non-null  object \n",
      " 7   Hight_cm        32794 non-null  float64\n",
      " 8   Classification  32794 non-null  object \n",
      " 9   Qualification   32794 non-null  object \n",
      " 10  Speed           32794 non-null  object \n",
      " 11  Time            32794 non-null  object \n",
      " 12  Faults          32794 non-null  object \n",
      " 13  Refusals        32794 non-null  object \n",
      " 14  Competition     32794 non-null  object \n",
      " 15  Location        32794 non-null  object \n",
      " 16  Roof            32794 non-null  object \n",
      " 17  Floor           32794 non-null  object \n",
      "dtypes: float64(1), int64(2), object(15)\n",
      "memory usage: 4.8+ MB\n"
     ]
    }
   ],
   "source": [
    "#ELIMINACIÓN FINAL:\n",
    "data_runs_2 = data_runs.copy()\n",
    "\n",
    "data_runs = data_runs.drop(indices_a_eliminar_1)\n",
    "data_runs = data_runs.drop(indices_a_eliminar_2)\n",
    "\n",
    "data_runs.info()"
   ]
  },
  {
   "cell_type": "code",
   "execution_count": 10,
   "metadata": {},
   "outputs": [
    {
     "data": {
      "text/plain": [
       "32794"
      ]
     },
     "execution_count": 10,
     "metadata": {},
     "output_type": "execute_result"
    }
   ],
   "source": [
    "eliminadas = 35572 - 1282 - 1496\n",
    "eliminadas"
   ]
  },
  {
   "cell_type": "code",
   "execution_count": null,
   "metadata": {},
   "outputs": [],
   "source": [
    "data_runs.info()"
   ]
  },
  {
   "cell_type": "code",
   "execution_count": 11,
   "metadata": {},
   "outputs": [],
   "source": [
    "data_runs.to_json(\"agility_runs_df.json\", orient=\"records\")\n"
   ]
  },
  {
   "cell_type": "code",
   "execution_count": 12,
   "metadata": {},
   "outputs": [],
   "source": [
    "data_runs.to_csv(\"./data/agility_runs_df.csv\")"
   ]
  }
 ],
 "metadata": {
  "kernelspec": {
   "display_name": "Python 3",
   "language": "python",
   "name": "python3"
  },
  "language_info": {
   "codemirror_mode": {
    "name": "ipython",
    "version": 3
   },
   "file_extension": ".py",
   "mimetype": "text/x-python",
   "name": "python",
   "nbconvert_exporter": "python",
   "pygments_lexer": "ipython3",
   "version": "3.12.2"
  }
 },
 "nbformat": 4,
 "nbformat_minor": 2
}
